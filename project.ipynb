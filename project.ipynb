{
 "cells": [
  {
   "cell_type": "markdown",
   "metadata": {},
   "source": [
    "# Card:\n",
    "- Represents a single card with a suit and rank.\n",
    "- To return the card's value."
   ]
  },
  {
   "cell_type": "code",
   "execution_count": null,
   "metadata": {},
   "outputs": [],
   "source": [
    "class Card:\n",
    "    def __init__(self, suit, rank):\n",
    "        self.suit = suit\n",
    "        self.rank = rank\n",
    "        \n",
    "    def __str__(self):\n",
    "        return f\"{self.rank} of {self.suit}\"\n",
    "\n",
    "    def get_value(self):\n",
    "        if self.rank in [\"J\", \"Q\", \"K\"]:\n",
    "            return 10cc\n",
    "        elif self.rank == \"A\":\n",
    "            return 11\n",
    "        else:\n",
    "            return int(self.rank)"
   ]
  },
  {
   "cell_type": "markdown",
   "metadata": {},
   "source": [
    "# Deck:\n",
    "- Represents a deck of 52 cards.\n",
    "- To shuffle the deck and deal cards."
   ]
  },
  {
   "cell_type": "code",
   "execution_count": 98,
   "metadata": {},
   "outputs": [],
   "source": [
    "import random\n",
    "\n",
    "class Deck:\n",
    "    def __init__(self):\n",
    "        suits = [\"Hearts\", \"Diamonds\", \"Clubs\", \"Spades\"]\n",
    "        ranks = [\"2\", \"3\", \"4\", \"5\", \"6\", \"7\", \"8\", \"9\", \"10\", \"J\", \"Q\", \"K\", \"A\"]\n",
    "        self.cards = [Card(suit, rank) for suit in suits for rank in ranks]\n",
    "        random.shuffle(self.cards) \n",
    "        \n",
    "    def deal_card(self):\n",
    "        return self.cards.pop() # remove and return The last index."
   ]
  },
  {
   "cell_type": "markdown",
   "metadata": {},
   "source": [
    "# Hand:\n",
    "- Represents a player's or dealer's hand of cards.\n",
    "- To add a card, Calculate the total value, and Check for a bust."
   ]
  },
  {
   "cell_type": "code",
   "execution_count": 99,
   "metadata": {},
   "outputs": [],
   "source": [
    "class Hand:\n",
    "    def __init__(self):\n",
    "        self.cards = [] # Start With Empty List.\n",
    "        \n",
    "    def add_card(self, card): # To add a card to the hand.\n",
    "        self.cards.append(card) # add 'card' th the cards list.\n",
    "        \n",
    "    def get_value(self): #  To calculate the total value of the hand.\n",
    "        value = sum(card.get_value() for card in self.cards)\n",
    "        # Adjust for Aces if value > 21\n",
    "        aces = sum(1 for card in self.cards if card.rank == \"A\")\n",
    "        while value > 21 and aces: # if Ttue i will calc \"A\" = 1\n",
    "            value -= 10\n",
    "            aces -= 1\n",
    "        return value\n",
    "        \n",
    "    def __str__(self): # To provide a string representation of the hand.\n",
    "        return \", \".join(str(card) for card in self.cards)"
   ]
  },
  {
   "cell_type": "markdown",
   "metadata": {},
   "source": [
    "# Player:\n",
    "- Represents the player.\n",
    "- Tracks the player's money and handles betting."
   ]
  },
  {
   "cell_type": "code",
   "execution_count": 100,
   "metadata": {},
   "outputs": [],
   "source": [
    "class Player:\n",
    "    def __init__(self, name, money = 100):\n",
    "        self.name = name\n",
    "        self.money = money\n",
    "        self.hand = Hand()\n",
    "\n",
    "    def place_bet(self, amount): # To handle betting.\n",
    "        if amount > self.money:\n",
    "            print(\"Not enough money!\")\n",
    "            return False\n",
    "        self.money -= amount\n",
    "        return amount\n",
    "\n",
    "    def win_bet(self, amount): # To handle winnings.\n",
    "        self.money += amount * 2\n",
    "        \n",
    "    def __str__(self): # To provide a string representation of the player.\n",
    "        return f\"{self.name} has ${self.money}\""
   ]
  },
  {
   "cell_type": "markdown",
   "metadata": {},
   "source": [
    "# Dealer:\n",
    "- Represents the dealer. \n",
    "- Follows the dealer's rules (e.g., must hit until reaching 17)."
   ]
  },
  {
   "cell_type": "code",
   "execution_count": 101,
   "metadata": {},
   "outputs": [],
   "source": [
    "class Dealer:\n",
    "    def __init__(self): # To initialize the dealer.\n",
    "        self.hand = Hand()\n",
    "\n",
    "    def show_hand(self, hide_first_card=False): # To display the dealer's hand, with an option to hide the first card.\n",
    "        if hide_first_card:\n",
    "            return \"Hidden, \" + \", \".join(str(card) for card in self.hand.cards[1:])\n",
    "        return str(self.hand)"
   ]
  },
  {
   "cell_type": "markdown",
   "metadata": {},
   "source": [
    "# Game:\n",
    "- Manages the overall game flow.\n",
    "- Handles player input, game logic, and displaying results."
   ]
  },
  {
   "cell_type": "code",
   "execution_count": 102,
   "metadata": {},
   "outputs": [],
   "source": [
    "class Game:\n",
    "    def __init__(self):\n",
    "        self.deck = Deck() # Call The Deck Class. \n",
    "        self.player = Player(\"Player\") # Call The Player Class.\n",
    "        self.dealer = Dealer() # Call The Dealer Class.\n",
    "\n",
    "    def start(self):\n",
    "        print(\"Welcome to Blackjack Game!\")\n",
    "        while self.player.money > 0: #continues as long as the player has money.\n",
    "            bet = int(input(f\"{self.player}, place your bet: \"))\n",
    "            if not self.player.place_bet(bet):\n",
    "                continue\n",
    "\n",
    "            \n",
    "            self.player.hand = Hand()\n",
    "            self.dealer.hand = Hand()\n",
    "            for _ in range(2):\n",
    "                self.player.hand.add_card(self.deck.deal_card())\n",
    "                self.dealer.hand.add_card(self.deck.deal_card())\n",
    "            \n",
    "            # Displays dealer hand && the first card hidden  \n",
    "            print(f\"\\nDealer's hand: {self.dealer.show_hand(hide_first_card=True)}\")\n",
    "            print(f\"Your hand: {self.player.hand}, Value: {self.player.hand.get_value()}\")\n",
    "\n",
    "            \n",
    "            while True:\n",
    "                action = input(\"Do you want to [H]it or [S]tand? \\n 'h' to Hit | 's' to Stand. \").lower()\n",
    "                # H or h --> new card and display \n",
    "                # S or s --> turn end\n",
    "                if action == \"h\":\n",
    "                    self.player.hand.add_card(self.deck.deal_card())\n",
    "                    print(f\"Your hand: {self.player.hand}, Value: {self.player.hand.get_value()}\")\n",
    "                    # If the player's hand value more than 21, -> lose the round.\n",
    "                    if self.player.hand.get_value() > 21:\n",
    "                        print(\"Bust! You lose.\")\n",
    "                        break\n",
    "                elif action == \"s\":\n",
    "                    break\n",
    "\n",
    "            \n",
    "            if self.player.hand.get_value() <= 21:\n",
    "                print(f\"\\nDealer's hand: {self.dealer.hand}, Value: {self.dealer.hand.get_value()}\")\n",
    "                while self.dealer.hand.get_value() < 17:\n",
    "                    self.dealer.hand.add_card(self.deck.deal_card())\n",
    "                    print(f\"Dealer hits: {self.dealer.hand}, Value: {self.dealer.hand.get_value()}\")\n",
    "\n",
    "                #winner\n",
    "                player_value = self.player.hand.get_value()\n",
    "                dealer_value = self.dealer.hand.get_value()\n",
    "                if dealer_value > 21 or player_value > dealer_value:\n",
    "                    print(\"Congratulations You win!\")\n",
    "                    self.player.win_bet(bet)\n",
    "                else:\n",
    "                    print(\"You lose!\")\n",
    "\n",
    "            # Displays the player's current money after the round\n",
    "            print(f\"{self.player}\\n\")\n",
    "            \n",
    "\n",
    "        print(\"You're out of money. Game over!\")"
   ]
  },
  {
   "cell_type": "markdown",
   "metadata": {},
   "source": [
    "Run The Game"
   ]
  },
  {
   "cell_type": "code",
   "execution_count": 103,
   "metadata": {},
   "outputs": [
    {
     "name": "stdout",
     "output_type": "stream",
     "text": [
      "Welcome to Blackjack Game!\n",
      "\n",
      "Dealer's hand: Hidden, K of Diamonds\n",
      "Your hand: 6 of Diamonds, K of Clubs, Value: 16\n",
      "Your hand: 6 of Diamonds, K of Clubs, 5 of Clubs, Value: 21\n",
      "\n",
      "Dealer's hand: 6 of Hearts, K of Diamonds, Value: 16\n",
      "Dealer hits: 6 of Hearts, K of Diamonds, 7 of Spades, Value: 23\n",
      "Congratulations You win!\n",
      "Player has $200\n",
      "\n",
      "\n",
      "Dealer's hand: Hidden, 7 of Hearts\n",
      "Your hand: 3 of Diamonds, K of Hearts, Value: 13\n",
      "Your hand: 3 of Diamonds, K of Hearts, 4 of Clubs, Value: 17\n",
      "Your hand: 3 of Diamonds, K of Hearts, 4 of Clubs, A of Spades, Value: 18\n",
      "Your hand: 3 of Diamonds, K of Hearts, 4 of Clubs, A of Spades, 8 of Diamonds, Value: 26\n",
      "Bust! You lose.\n",
      "Player has $0\n",
      "\n",
      "You're out of money. Game over!\n"
     ]
    }
   ],
   "source": [
    "if __name__ == \"__main__\":\n",
    "    game = Game()\n",
    "    game.start()"
   ]
  }
 ],
 "metadata": {
  "kernelspec": {
   "display_name": "Python 3",
   "language": "python",
   "name": "python3"
  },
  "language_info": {
   "codemirror_mode": {
    "name": "ipython",
    "version": 3
   },
   "file_extension": ".py",
   "mimetype": "text/x-python",
   "name": "python",
   "nbconvert_exporter": "python",
   "pygments_lexer": "ipython3",
   "version": "3.13.1"
  }
 },
 "nbformat": 4,
 "nbformat_minor": 2
}
